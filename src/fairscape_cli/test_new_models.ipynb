{
 "cells": [
  {
   "cell_type": "code",
   "execution_count": 1,
   "id": "bdd80762",
   "metadata": {},
   "outputs": [],
   "source": [
    "import os\n",
    "import sys\n",
    "import argparse\n",
    "import json\n",
    "from pathlib import Path\n",
    "\n",
    "from fairscape_cli.datasheet_builder.rocrate.base import ReleaseProcessor\n",
    "\n",
    "\n",
    "\n",
    "\n",
    "metadata_path = Path('/Users/justin/Docs/Tim_Work/LATEST_CRATES/ro-crate-metadata.json')\n",
    "release_processor = ReleaseProcessor(metadata_path=metadata_path, published=True)\n",
    "release_model = release_processor.release_model\n",
    "\n",
    "\n",
    "\n"
   ]
  },
  {
   "cell_type": "code",
   "execution_count": 2,
   "id": "35b339b0",
   "metadata": {},
   "outputs": [
    {
     "data": {
      "text/plain": [
       "CrateComposition(datasets=51753, software=10, computations=101, experiments=1597, samples=196, instruments=2, schemas=14, other=1412, total_size='19.1 TB', file_formats={'fastq.gz': 192, 'h5': 90, 'pdf': 1, 'h5mu': 1, 'csv': 5, 'md': 1, 'zip': 1, 'image/jpeg': 51436, '.d': 16, '.xml': 1, '.tsv': 9}, software_formats={'executable': 3, 'py': 1, 'ipynb': 5, 'unknown': 1}, computation_patterns=[], experiment_patterns=[], input_datasets_count=0, input_datasets={})"
      ]
     },
     "execution_count": 2,
     "metadata": {},
     "output_type": "execute_result"
    }
   ],
   "source": [
    "release_model.composition"
   ]
  },
  {
   "cell_type": "code",
   "execution_count": 5,
   "id": "0ea5ae8f",
   "metadata": {},
   "outputs": [
    {
     "data": {
      "text/plain": [
       "CrateComposition(datasets=17685, software=0, computations=0, experiments=468, samples=1, instruments=0, schemas=1, other=470, total_size='2.6 GB', file_formats={'csv': 1, 'image/jpeg': 17684}, software_formats={}, computation_patterns=[], experiment_patterns=['Sample → image/jpeg'], input_datasets_count=2, input_datasets={'unknown': 1, 'csv': 1})"
      ]
     },
     "execution_count": 5,
     "metadata": {},
     "output_type": "execute_result"
    }
   ],
   "source": [
    "release_model.subcrates[0].composition"
   ]
  },
  {
   "cell_type": "code",
   "execution_count": null,
   "id": "402d3d75",
   "metadata": {},
   "outputs": [],
   "source": []
  }
 ],
 "metadata": {
  "kernelspec": {
   "display_name": "base",
   "language": "python",
   "name": "python3"
  },
  "language_info": {
   "codemirror_mode": {
    "name": "ipython",
    "version": 3
   },
   "file_extension": ".py",
   "mimetype": "text/x-python",
   "name": "python",
   "nbconvert_exporter": "python",
   "pygments_lexer": "ipython3",
   "version": "3.11.7"
  }
 },
 "nbformat": 4,
 "nbformat_minor": 5
}
