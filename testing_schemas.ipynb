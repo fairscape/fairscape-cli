{
 "cells": [
  {
   "cell_type": "code",
   "execution_count": 1,
   "id": "9c39fd5f-a87d-43cd-98f2-80bdd3b1ff96",
   "metadata": {},
   "outputs": [],
   "source": [
    "from fairscape_cli.models.schema.tabular import (\n",
    "    TabularValidationSchema,\n",
    "    ReadSchema\n",
    ")\n",
    "from fairscape_cli.models.schema.utils import (\n",
    "    GenerateSlice\n",
    ")"
   ]
  },
  {
   "cell_type": "code",
   "execution_count": null,
   "id": "8532ea50-523d-485b-983b-54f2a86921a6",
   "metadata": {},
   "outputs": [],
   "source": [
    "embedding_schema = ReadSchema(\n",
    "    'examples/schemas/cm4ai-rocrates/apms_embedding/cm4ai_schema_apms_embedding.json'\n",
    ")"
   ]
  },
  {
   "cell_type": "code",
   "execution_count": null,
   "id": "42ee3dd7-67d2-44f1-9f86-15ca9488ee02",
   "metadata": {},
   "outputs": [],
   "source": [
    "embedding_schema"
   ]
  },
  {
   "cell_type": "code",
   "execution_count": null,
   "id": "d2abdd94-5b8b-4d26-a001-e689f95eba52",
   "metadata": {},
   "outputs": [],
   "source": [
    "# read in a row\n",
    "rows = []\n",
    "seperator = '\\t'\n",
    "with open('examples/schemas/cm4ai-rocrates/apms_embedding/ppi_emd.tsv', 'r') as embedding_file:\n",
    "    data_line = embedding_file.readline().replace(\",,\", \",nan,\").replace(\"\\n\", \"\").split(seperator)\n",
    "    rows.append(data_line)\n",
    "    "
   ]
  },
  {
   "cell_type": "code",
   "execution_count": 7,
   "id": "71439069-b184-4236-9066-ce37f6550ef5",
   "metadata": {},
   "outputs": [],
   "source": [
    "# wrong data for example\n",
    "rows = []\n",
    "seperator = ','\n",
    "with open('examples/schemas/MUSIC_embedding/APMS_embedding_corrupted.csv', 'r') as embedding_file:\n",
    "    line = embedding_file.readline()\n",
    "    while line != '': \n",
    "        data_line = line.replace(\",,\", \",nan,\").replace(\"\\n\", \"\").split(seperator)\n",
    "        rows.append(data_line)\n",
    "        line = embedding_file.readline()"
   ]
  },
  {
   "cell_type": "code",
   "execution_count": 8,
   "id": "ec7d1371-5996-4f3a-b013-e439446847c2",
   "metadata": {},
   "outputs": [
    {
     "ename": "AssertionError",
     "evalue": "",
     "output_type": "error",
     "traceback": [
      "\u001b[0;31m---------------------------------------------------------------------------\u001b[0m",
      "\u001b[0;31mAssertionError\u001b[0m                            Traceback (most recent call last)",
      "Cell \u001b[0;32mIn[8], line 3\u001b[0m\n\u001b[1;32m      1\u001b[0m \u001b[38;5;66;03m# check that all rows have the same length\u001b[39;00m\n\u001b[1;32m      2\u001b[0m row_lengths \u001b[38;5;241m=\u001b[39m \u001b[38;5;28mset\u001b[39m([\u001b[38;5;28mlen\u001b[39m(row) \u001b[38;5;28;01mfor\u001b[39;00m row \u001b[38;5;129;01min\u001b[39;00m rows])\n\u001b[0;32m----> 3\u001b[0m \u001b[38;5;28;01massert\u001b[39;00m \u001b[38;5;28mlen\u001b[39m(row_lengths) \u001b[38;5;241m==\u001b[39m \u001b[38;5;241m1\u001b[39m\n",
      "\u001b[0;31mAssertionError\u001b[0m: "
     ]
    }
   ],
   "source": [
    "# check that all rows have the same length\n",
    "row_lengths = set([len(row) for row in rows])\n",
    "assert len(row_lengths) == 1"
   ]
  },
  {
   "cell_type": "code",
   "execution_count": 10,
   "id": "b87f2b30-2e03-4326-be1e-80d31e880465",
   "metadata": {},
   "outputs": [
    {
     "data": {
      "text/plain": [
       "{1026, 1027}"
      ]
     },
     "execution_count": 10,
     "metadata": {},
     "output_type": "execute_result"
    }
   ],
   "source": [
    "row_lengths"
   ]
  },
  {
   "cell_type": "code",
   "execution_count": 13,
   "id": "af212efb-46e7-49a5-825c-81775583b4e7",
   "metadata": {},
   "outputs": [],
   "source": [
    "# Frequency \n",
    "row_length_frequency = [[len(row) for row in rows].count(row_length_elem) for row_length_elem in list(row_lengths)]"
   ]
  },
  {
   "cell_type": "code",
   "execution_count": null,
   "id": "2d62e79c-7ebd-424c-b5ab-c6965a069c99",
   "metadata": {},
   "outputs": [],
   "source": [
    "list(row_lengths)[0]"
   ]
  },
  {
   "cell_type": "code",
   "execution_count": null,
   "id": "297606d3-6f69-4e48-aa69-1382d9321ad1",
   "metadata": {},
   "outputs": [],
   "source": [
    "default_row_length = len(rows[0])"
   ]
  },
  {
   "cell_type": "code",
   "execution_count": null,
   "id": "5748744a-894b-4b0f-aef4-169ee0b93776",
   "metadata": {},
   "outputs": [],
   "source": [
    "# define property slice\n",
    "schema_definition = embedding_schema.model_dump(    \n",
    "        by_alias=True,     \n",
    "        exclude_unset=True,    \n",
    "        exclude_none=True    \n",
    "        )    \n",
    "\n",
    "properties_simplified = [\n",
    "        { \n",
    "            \"name\": property_name, \n",
    "            \"index\": property_data.get(\"index\"),                                                                                                                   \n",
    "            \"type\": property_data.get(\"type\"),\n",
    "            \"items\": property_data.get(\"items\", {}).get(\"type\"),\n",
    "            \"index_slice\": None,\n",
    "            \"access_function\": None\n",
    "        }                                                                                  \n",
    "        for property_name, property_data in schema_definition.get(\"properties\").items()\n",
    "] "
   ]
  },
  {
   "cell_type": "code",
   "execution_count": null,
   "id": "e595279e-41a7-4931-ae3e-123da1d5c242",
   "metadata": {},
   "outputs": [],
   "source": [
    "property_slice"
   ]
  },
  {
   "cell_type": "code",
   "execution_count": null,
   "id": "475dd929-38bb-4219-bbfa-3aa218a30b11",
   "metadata": {},
   "outputs": [],
   "source": [
    "\n",
    "            "
   ]
  },
  {
   "cell_type": "code",
   "execution_count": null,
   "id": "11c186ae-2fba-4662-bdba-5245980506ad",
   "metadata": {},
   "outputs": [],
   "source": [
    "x"
   ]
  },
  {
   "cell_type": "code",
   "execution_count": null,
   "id": "059f31c7-cca1-4a8b-9451-bba8c821613c",
   "metadata": {},
   "outputs": [],
   "source": [
    "properties_simplified"
   ]
  },
  {
   "cell_type": "code",
   "execution_count": null,
   "id": "a051ce70-5f13-41d1-bdd3-995f3dc352b6",
   "metadata": {},
   "outputs": [],
   "source": [
    "len(rows)"
   ]
  },
  {
   "cell_type": "code",
   "execution_count": null,
   "id": "b3253703-2f85-4329-9b4f-185815f1d6dc",
   "metadata": {},
   "outputs": [],
   "source": [
    "\n",
    "\n",
    "json_output = []\n",
    "for i, data_row in enumerate(rows):\n",
    "    json_row = {}\n",
    "    for json_attribute in properties_simplified:\n",
    "       # print(json_attribute)\n",
    "        attribute_name = json_attribute.get(\"name\")\n",
    "        access_func = json_attribute.get(\"access_function\")\n",
    "        attribute_slice = json_attribute.get(\"index_slice\")\n",
    "        try:\n",
    "            json_row[attribute_name] = access_func(data_row, attribute_slice)\n",
    "        except ValueError as e:\n",
    "            print(f\"ValueError: Failed to Parse Attribute {attribute_name} for Row {i}\")\n",
    "            print(f\"\\tException: {str(e)}\")"
   ]
  },
  {
   "cell_type": "code",
   "execution_count": null,
   "id": "99599075-71ac-4a25-9a4f-35ef40501a71",
   "metadata": {},
   "outputs": [],
   "source": [
    "rows[0]"
   ]
  },
  {
   "cell_type": "code",
   "execution_count": null,
   "id": "e0e2799c-c96b-4359-9f50-5313b8ec24d1",
   "metadata": {},
   "outputs": [],
   "source": []
  }
 ],
 "metadata": {
  "kernelspec": {
   "display_name": "Python 3 (ipykernel)",
   "language": "python",
   "name": "python3"
  },
  "language_info": {
   "codemirror_mode": {
    "name": "ipython",
    "version": 3
   },
   "file_extension": ".py",
   "mimetype": "text/x-python",
   "name": "python",
   "nbconvert_exporter": "python",
   "pygments_lexer": "ipython3",
   "version": "3.12.1"
  }
 },
 "nbformat": 4,
 "nbformat_minor": 5
}
