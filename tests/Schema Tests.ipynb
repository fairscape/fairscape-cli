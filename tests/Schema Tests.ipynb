{
 "cells": [
  {
   "cell_type": "markdown",
   "id": "c4ac9b5b",
   "metadata": {},
   "source": [
    "## Setup"
   ]
  },
  {
   "cell_type": "markdown",
   "id": "3936aa1c",
   "metadata": {},
   "source": [
    "### Installing Dependencies"
   ]
  },
  {
   "cell_type": "code",
   "execution_count": 45,
   "id": "f707545f",
   "metadata": {},
   "outputs": [
    {
     "name": "stdout",
     "output_type": "stream",
     "text": [
      "Defaulting to user installation because normal site-packages is not writeable\n",
      "Collecting prettytable\n",
      "  Downloading prettytable-3.7.0-py3-none-any.whl (27 kB)\n",
      "Requirement already satisfied: wcwidth in /home/max/.local/lib/python3.10/site-packages (from prettytable) (0.2.5)\n",
      "Installing collected packages: prettytable\n",
      "Successfully installed prettytable-3.7.0\n",
      "--- Logging error ---\n",
      "Traceback (most recent call last):\n",
      "  File \"/home/max/.local/lib/python3.10/site-packages/pip/_internal/utils/logging.py\", line 177, in emit\n",
      "    self.console.print(renderable, overflow=\"ignore\", crop=False, style=style)\n",
      "  File \"/home/max/.local/lib/python3.10/site-packages/pip/_vendor/rich/console.py\", line 1673, in print\n",
      "    extend(render(renderable, render_options))\n",
      "  File \"/home/max/.local/lib/python3.10/site-packages/pip/_vendor/rich/console.py\", line 1305, in render\n",
      "    for render_output in iter_render:\n",
      "  File \"/home/max/.local/lib/python3.10/site-packages/pip/_internal/utils/logging.py\", line 134, in __rich_console__\n",
      "    for line in lines:\n",
      "  File \"/home/max/.local/lib/python3.10/site-packages/pip/_vendor/rich/segment.py\", line 249, in split_lines\n",
      "    for segment in segments:\n",
      "  File \"/home/max/.local/lib/python3.10/site-packages/pip/_vendor/rich/console.py\", line 1283, in render\n",
      "    renderable = rich_cast(renderable)\n",
      "  File \"/home/max/.local/lib/python3.10/site-packages/pip/_vendor/rich/protocol.py\", line 36, in rich_cast\n",
      "    renderable = cast_method()\n",
      "  File \"/home/max/.local/lib/python3.10/site-packages/pip/_internal/self_outdated_check.py\", line 130, in __rich__\n",
      "    pip_cmd = get_best_invocation_for_this_pip()\n",
      "  File \"/home/max/.local/lib/python3.10/site-packages/pip/_internal/utils/entrypoints.py\", line 58, in get_best_invocation_for_this_pip\n",
      "    if found_executable and os.path.samefile(\n",
      "  File \"/usr/lib/python3.10/genericpath.py\", line 101, in samefile\n",
      "    s2 = os.stat(f2)\n",
      "FileNotFoundError: [Errno 2] No such file or directory: '/usr/bin/pip'\n",
      "Call stack:\n",
      "  File \"/usr/lib/python3.10/runpy.py\", line 196, in _run_module_as_main\n",
      "    return _run_code(code, main_globals, None,\n",
      "  File \"/usr/lib/python3.10/runpy.py\", line 86, in _run_code\n",
      "    exec(code, run_globals)\n",
      "  File \"/home/max/.local/lib/python3.10/site-packages/pip/__main__.py\", line 31, in <module>\n",
      "    sys.exit(_main())\n",
      "  File \"/home/max/.local/lib/python3.10/site-packages/pip/_internal/cli/main.py\", line 70, in main\n",
      "    return command.main(cmd_args)\n",
      "  File \"/home/max/.local/lib/python3.10/site-packages/pip/_internal/cli/base_command.py\", line 101, in main\n",
      "    return self._main(args)\n",
      "  File \"/home/max/.local/lib/python3.10/site-packages/pip/_internal/cli/base_command.py\", line 223, in _main\n",
      "    self.handle_pip_version_check(options)\n",
      "  File \"/home/max/.local/lib/python3.10/site-packages/pip/_internal/cli/req_command.py\", line 190, in handle_pip_version_check\n",
      "    pip_self_version_check(session, options)\n",
      "  File \"/home/max/.local/lib/python3.10/site-packages/pip/_internal/self_outdated_check.py\", line 236, in pip_self_version_check\n",
      "    logger.warning(\"[present-rich] %s\", upgrade_prompt)\n",
      "  File \"/usr/lib/python3.10/logging/__init__.py\", line 1489, in warning\n",
      "    self._log(WARNING, msg, args, **kwargs)\n",
      "  File \"/usr/lib/python3.10/logging/__init__.py\", line 1624, in _log\n",
      "    self.handle(record)\n",
      "  File \"/usr/lib/python3.10/logging/__init__.py\", line 1634, in handle\n",
      "    self.callHandlers(record)\n",
      "  File \"/usr/lib/python3.10/logging/__init__.py\", line 1696, in callHandlers\n",
      "    hdlr.handle(record)\n",
      "  File \"/usr/lib/python3.10/logging/__init__.py\", line 968, in handle\n",
      "    self.emit(record)\n",
      "  File \"/home/max/.local/lib/python3.10/site-packages/pip/_internal/utils/logging.py\", line 179, in emit\n",
      "    self.handleError(record)\n",
      "Message: '[present-rich] %s'\n",
      "Arguments: (UpgradePrompt(old='22.2.2', new='23.1.2'),)\n",
      "Defaulting to user installation because normal site-packages is not writeable\n",
      "Collecting imageio\n",
      "  Using cached imageio-2.28.1-py3-none-any.whl (3.4 MB)\n",
      "Requirement already satisfied: numpy in /home/max/.local/lib/python3.10/site-packages (from imageio) (1.22.3)\n",
      "Collecting pillow>=8.3.2\n",
      "  Using cached Pillow-9.5.0-cp310-cp310-manylinux_2_28_x86_64.whl (3.4 MB)\n",
      "Installing collected packages: pillow, imageio\n",
      "Successfully installed imageio-2.28.1 pillow-9.5.0\n",
      "--- Logging error ---\n",
      "Traceback (most recent call last):\n",
      "  File \"/home/max/.local/lib/python3.10/site-packages/pip/_internal/utils/logging.py\", line 177, in emit\n",
      "    self.console.print(renderable, overflow=\"ignore\", crop=False, style=style)\n",
      "  File \"/home/max/.local/lib/python3.10/site-packages/pip/_vendor/rich/console.py\", line 1673, in print\n",
      "    extend(render(renderable, render_options))\n",
      "  File \"/home/max/.local/lib/python3.10/site-packages/pip/_vendor/rich/console.py\", line 1305, in render\n",
      "    for render_output in iter_render:\n",
      "  File \"/home/max/.local/lib/python3.10/site-packages/pip/_internal/utils/logging.py\", line 134, in __rich_console__\n",
      "    for line in lines:\n",
      "  File \"/home/max/.local/lib/python3.10/site-packages/pip/_vendor/rich/segment.py\", line 249, in split_lines\n",
      "    for segment in segments:\n",
      "  File \"/home/max/.local/lib/python3.10/site-packages/pip/_vendor/rich/console.py\", line 1283, in render\n",
      "    renderable = rich_cast(renderable)\n",
      "  File \"/home/max/.local/lib/python3.10/site-packages/pip/_vendor/rich/protocol.py\", line 36, in rich_cast\n",
      "    renderable = cast_method()\n",
      "  File \"/home/max/.local/lib/python3.10/site-packages/pip/_internal/self_outdated_check.py\", line 130, in __rich__\n",
      "    pip_cmd = get_best_invocation_for_this_pip()\n",
      "  File \"/home/max/.local/lib/python3.10/site-packages/pip/_internal/utils/entrypoints.py\", line 58, in get_best_invocation_for_this_pip\n",
      "    if found_executable and os.path.samefile(\n",
      "  File \"/usr/lib/python3.10/genericpath.py\", line 101, in samefile\n",
      "    s2 = os.stat(f2)\n",
      "FileNotFoundError: [Errno 2] No such file or directory: '/usr/bin/pip'\n",
      "Call stack:\n",
      "  File \"/usr/lib/python3.10/runpy.py\", line 196, in _run_module_as_main\n",
      "    return _run_code(code, main_globals, None,\n",
      "  File \"/usr/lib/python3.10/runpy.py\", line 86, in _run_code\n",
      "    exec(code, run_globals)\n",
      "  File \"/home/max/.local/lib/python3.10/site-packages/pip/__main__.py\", line 31, in <module>\n",
      "    sys.exit(_main())\n",
      "  File \"/home/max/.local/lib/python3.10/site-packages/pip/_internal/cli/main.py\", line 70, in main\n",
      "    return command.main(cmd_args)\n",
      "  File \"/home/max/.local/lib/python3.10/site-packages/pip/_internal/cli/base_command.py\", line 101, in main\n",
      "    return self._main(args)\n",
      "  File \"/home/max/.local/lib/python3.10/site-packages/pip/_internal/cli/base_command.py\", line 223, in _main\n",
      "    self.handle_pip_version_check(options)\n",
      "  File \"/home/max/.local/lib/python3.10/site-packages/pip/_internal/cli/req_command.py\", line 190, in handle_pip_version_check\n",
      "    pip_self_version_check(session, options)\n",
      "  File \"/home/max/.local/lib/python3.10/site-packages/pip/_internal/self_outdated_check.py\", line 236, in pip_self_version_check\n",
      "    logger.warning(\"[present-rich] %s\", upgrade_prompt)\n",
      "  File \"/usr/lib/python3.10/logging/__init__.py\", line 1489, in warning\n",
      "    self._log(WARNING, msg, args, **kwargs)\n",
      "  File \"/usr/lib/python3.10/logging/__init__.py\", line 1624, in _log\n",
      "    self.handle(record)\n",
      "  File \"/usr/lib/python3.10/logging/__init__.py\", line 1634, in handle\n",
      "    self.callHandlers(record)\n",
      "  File \"/usr/lib/python3.10/logging/__init__.py\", line 1696, in callHandlers\n",
      "    hdlr.handle(record)\n",
      "  File \"/usr/lib/python3.10/logging/__init__.py\", line 968, in handle\n",
      "    self.emit(record)\n",
      "  File \"/home/max/.local/lib/python3.10/site-packages/pip/_internal/utils/logging.py\", line 179, in emit\n",
      "    self.handleError(record)\n",
      "Message: '[present-rich] %s'\n",
      "Arguments: (UpgradePrompt(old='22.2.2', new='23.1.2'),)\n"
     ]
    }
   ],
   "source": [
    "# Install a pip package in the current Jupyter kernel\n",
    "import sys\n",
    "!{sys.executable} -m pip install prettytable\n",
    "!{sys.executable} -m pip install imageio"
   ]
  },
  {
   "cell_type": "markdown",
   "id": "882d80e6",
   "metadata": {},
   "source": [
    "### Adding cli to path"
   ]
  },
  {
   "cell_type": "code",
   "execution_count": 46,
   "id": "59cd7566",
   "metadata": {},
   "outputs": [],
   "source": [
    "\n",
    "import os\n",
    "import sys\n",
    "\n",
    "sys.path.insert(\n",
    "    0, \n",
    "    \"/home/max/uva/fairscape-cli/fairscape_cli/\"\n",
    ")\n"
   ]
  },
  {
   "cell_type": "markdown",
   "id": "55dab6b1",
   "metadata": {},
   "source": [
    "### Importing Schema Ingredients"
   ]
  },
  {
   "cell_type": "code",
   "execution_count": 89,
   "id": "b72119a8",
   "metadata": {},
   "outputs": [],
   "source": [
    "from typing import (\n",
    "    List,\n",
    "    Optional\n",
    ")\n",
    "import pathlib\n",
    "from fairscape_cli.models.schema import (\n",
    "    ImageSchema,\n",
    "    ImageValidation,\n",
    "    ImageValidationException,\n",
    "    ImagePathNotFoundException,\n",
    "    DatatypeEnum,\n",
    "    DatatypeSchema,\n",
    "    ColumnSchema,\n",
    "    TabularDataSchema,\n",
    "    DataValidationException,\n",
    "    NAValidationException,\n",
    "    PathNotFoundException\n",
    ")\n",
    "\n"
   ]
  },
  {
   "cell_type": "markdown",
   "id": "388befac",
   "metadata": {},
   "source": [
    "### Example Schema"
   ]
  },
  {
   "cell_type": "code",
   "execution_count": 59,
   "id": "e1e60376",
   "metadata": {},
   "outputs": [],
   "source": [
    "\n",
    "apms_datatype = DatatypeSchema(\n",
    "    name=\"APMS Experiment\",\n",
    "    description=\"Identifier for APMS experiment corresponding to the given node2vec vector\",\n",
    "    base=\"string\",\n",
    "    format=\"APMS_[0-9]*\"\n",
    ")\n",
    "\n",
    "apms_column = ColumnSchema(\n",
    "    name=\"APMS Experiment\",\n",
    "    description=\"APMS_column\",\n",
    "    ordered=False,\n",
    "    required=True,\n",
    "    number=0,\n",
    "    datatype=apms_datatype,\n",
    "    titles=[\"APMS Experiment\"]\n",
    ")\n",
    "\n",
    "gene_symbol_datatype = DatatypeSchema(\n",
    "    name=\"Gene Symbol\",\n",
    "    description=\"Gene Symbol in String Form\",\n",
    "    base=\"string\",\n",
    "    format=\"[A-Z0-9]*\",\n",
    "    minLength=3,\n",
    "    maxLength=20\n",
    ")\n",
    "\n",
    "gene_symbol_column = ColumnSchema(\n",
    "    name=\"Gene Symbol\",\n",
    "    description=\"gene symbol for apms embedding vector\",\n",
    "    ordered=False,\n",
    "    required=True,\n",
    "    number=0,\n",
    "    datatype=gene_symbol_datatype,\n",
    "    valueURL=\"http://edamontology.org/data_1026\",\n",
    "    titles=[\"Gene Symbol\"]\n",
    ")\n",
    "\n",
    "embedding_column = ColumnSchema(\n",
    "    name=\"embedding values\",\n",
    "    datatype = \"float\",\n",
    "    required = True,\n",
    "    description=\"node2vec embedding vector values for genes\",\n",
    "    number=\"2::\",\n",
    "    titles=[\"node2vec embedding vector\"]\n",
    ")\n",
    "\n",
    "embedding_schema = TabularDataSchema(\n",
    "    guid=\"ark:99999/schema/apms_embedding_schema\",\n",
    "    name=\"apms embedding schema\",\n",
    "    description=\"embedding vector values for genes determined by running node2vec on APMS networks\",\n",
    "    seperator=\",\",\n",
    "    header=False,\n",
    "    columns=[\n",
    "        apms_column,\n",
    "        gene_symbol_column,\n",
    "        embedding_column\n",
    "    ]\n",
    ")"
   ]
  },
  {
   "cell_type": "markdown",
   "id": "109dee93",
   "metadata": {},
   "source": [
    "### Read Example Data"
   ]
  },
  {
   "cell_type": "code",
   "execution_count": 60,
   "id": "01003783",
   "metadata": {},
   "outputs": [],
   "source": [
    "# test reading the data with the specified schema\n",
    "embedding_path = pathlib.Path(\"./data/APMS_embedding_MUSIC.csv\")\n",
    "embedding_df = embedding_schema.ReadTabularData(embedding_path)\n",
    "\n",
    "col_schema = embedding_schema.columns[0]\n",
    "column = embedding_df.iloc[:,0]\n"
   ]
  },
  {
   "cell_type": "code",
   "execution_count": 102,
   "id": "c05dee74",
   "metadata": {},
   "outputs": [],
   "source": [
    "# data designed to fail\n",
    "embedding_path = pathlib.Path(\"./data/APMS_embedding_MUSIC.csv\")\n",
    "embedding_df_fail = embedding_schema.ReadTabularData(embedding_path)\n",
    "\n"
   ]
  },
  {
   "cell_type": "code",
   "execution_count": null,
   "id": "73982890",
   "metadata": {},
   "outputs": [],
   "source": []
  },
  {
   "cell_type": "code",
   "execution_count": 104,
   "id": "02774f2e",
   "metadata": {},
   "outputs": [],
   "source": [
    "# set na validation to fail\n",
    "embedding_df_fail.iloc[2,0]\n",
    "embedding_df_fail.iat[2,0] = None\n",
    "embedding_df_fail.iat[3, 0] = \"\"\n",
    "fail_column = embedding_df_fail.iloc[:, 0]"
   ]
  },
  {
   "cell_type": "code",
   "execution_count": 116,
   "id": "a0bc726f",
   "metadata": {},
   "outputs": [
    {
     "data": {
      "text/plain": [
       "Int64Index([   0,    1,    2,    3,    4,    5,    6,    7,    8,    9,\n",
       "            ...\n",
       "            1016, 1017, 1018, 1019, 1020, 1021, 1022, 1023, 1024, 1025],\n",
       "           dtype='int64', length=1026)"
      ]
     },
     "execution_count": 116,
     "metadata": {},
     "output_type": "execute_result"
    }
   ],
   "source": [
    "embedding_df.columns"
   ]
  },
  {
   "cell_type": "code",
   "execution_count": 117,
   "id": "38da73cd",
   "metadata": {},
   "outputs": [
    {
     "data": {
      "text/plain": [
       "dtype('O')"
      ]
     },
     "execution_count": 117,
     "metadata": {},
     "output_type": "execute_result"
    }
   ],
   "source": [
    "fail_column.dtype"
   ]
  },
  {
   "cell_type": "markdown",
   "id": "9503c337",
   "metadata": {},
   "source": [
    "## Schema Validation"
   ]
  },
  {
   "cell_type": "markdown",
   "id": "491b4e6c",
   "metadata": {},
   "source": [
    "### Null Values"
   ]
  },
  {
   "cell_type": "code",
   "execution_count": 112,
   "id": "0a565c77",
   "metadata": {},
   "outputs": [],
   "source": [
    "# if values are required check if any missing values are present\n",
    "def ValidateNullValue(null_value: Optional[str], column) -> None:\n",
    "    \"\"\" Validate that null values are not present when the column schema specifies these values as required\n",
    "    \"\"\"\n",
    "    \n",
    "    if any(column.isna()): \n",
    "        raise NAValidationException(error=\"Column has missing Values\")\n",
    "\n",
    "    if any(column == None):\n",
    "        raise NAValidationException(error=\"Column has missing Values\")\n",
    "\n",
    "    # compare to passed null value\n",
    "    if null_value != None:\n",
    "        if any(column == null_value):\n",
    "            raise NAValidationException(error=\"Column has null values\")\n",
    "\n",
    "    return None\n"
   ]
  },
  {
   "cell_type": "markdown",
   "id": "0a17725e",
   "metadata": {},
   "source": [
    "#### Test Null Values"
   ]
  },
  {
   "cell_type": "code",
   "execution_count": 110,
   "id": "cb54cfce",
   "metadata": {},
   "outputs": [],
   "source": [
    "ValidateNullValue(col_schema.null, column)"
   ]
  },
  {
   "cell_type": "code",
   "execution_count": 111,
   "id": "dd3ca968",
   "metadata": {},
   "outputs": [
    {
     "ename": "NAValidationException",
     "evalue": "DataValidationException: Validation Failed",
     "output_type": "error",
     "traceback": [
      "\u001b[0;31m---------------------------------------------------------------------------\u001b[0m",
      "\u001b[0;31mNAValidationException\u001b[0m                     Traceback (most recent call last)",
      "Input \u001b[0;32mIn [111]\u001b[0m, in \u001b[0;36m<cell line: 1>\u001b[0;34m()\u001b[0m\n\u001b[0;32m----> 1\u001b[0m \u001b[43mValidateNullValue\u001b[49m\u001b[43m(\u001b[49m\u001b[43mcol_schema\u001b[49m\u001b[38;5;241;43m.\u001b[39;49m\u001b[43mnull\u001b[49m\u001b[43m,\u001b[49m\u001b[43m \u001b[49m\u001b[43mfail_column\u001b[49m\u001b[43m)\u001b[49m\n",
      "Input \u001b[0;32mIn [109]\u001b[0m, in \u001b[0;36mValidateNullValue\u001b[0;34m(null_value, column)\u001b[0m\n\u001b[1;32m      3\u001b[0m \u001b[38;5;124;03m\"\"\" Validate that null values are not present when the column schema specifies these values as required\u001b[39;00m\n\u001b[1;32m      4\u001b[0m \u001b[38;5;124;03m\"\"\"\u001b[39;00m\n\u001b[1;32m      6\u001b[0m \u001b[38;5;28;01mif\u001b[39;00m \u001b[38;5;28many\u001b[39m(column\u001b[38;5;241m.\u001b[39misna()): \n\u001b[0;32m----> 7\u001b[0m     \u001b[38;5;28;01mraise\u001b[39;00m NAValidationException(error\u001b[38;5;241m=\u001b[39m\u001b[38;5;124m\"\u001b[39m\u001b[38;5;124mColumn has missing Values\u001b[39m\u001b[38;5;124m\"\u001b[39m)\n\u001b[1;32m      9\u001b[0m \u001b[38;5;28;01mif\u001b[39;00m \u001b[38;5;28many\u001b[39m(column \u001b[38;5;241m==\u001b[39m \u001b[38;5;28;01mNone\u001b[39;00m):\n\u001b[1;32m     10\u001b[0m     \u001b[38;5;28;01mraise\u001b[39;00m NAValidationException()\n",
      "\u001b[0;31mNAValidationException\u001b[0m: DataValidationException: Validation Failed"
     ]
    }
   ],
   "source": [
    "ValidateNullValue(col_schema.null, fail_column)"
   ]
  },
  {
   "cell_type": "markdown",
   "id": "5b5f409b",
   "metadata": {},
   "source": [
    "### Validate Datatype"
   ]
  },
  {
   "cell_type": "code",
   "execution_count": 121,
   "id": "992aaf3a",
   "metadata": {},
   "outputs": [
    {
     "data": {
      "text/plain": [
       "0        APMS_1\n",
       "1        APMS_2\n",
       "2        APMS_3\n",
       "3        APMS_4\n",
       "4        APMS_5\n",
       "         ...   \n",
       "656    APMS_657\n",
       "657    APMS_658\n",
       "658    APMS_659\n",
       "659    APMS_660\n",
       "660    APMS_661\n",
       "Name: 0, Length: 661, dtype: string"
      ]
     },
     "execution_count": 121,
     "metadata": {},
     "output_type": "execute_result"
    }
   ],
   "source": [
    "column.astype('string')"
   ]
  },
  {
   "cell_type": "code",
   "execution_count": 124,
   "id": "136de46d",
   "metadata": {},
   "outputs": [
    {
     "name": "stdout",
     "output_type": "stream",
     "text": [
      "Failed to Cast types\n"
     ]
    }
   ],
   "source": [
    "try:\n",
    "    column.astype('int64')\n",
    "except ValueError as e:\n",
    "    print(\"Failed to Cast types\")"
   ]
  },
  {
   "cell_type": "code",
   "execution_count": 125,
   "id": "fceb9b3a",
   "metadata": {},
   "outputs": [],
   "source": [
    "def ValidateDatatypeEnum(column, datatype_enum: DatatypeEnum) -> None:\n",
    "    \"\"\"Validate that all column values can be correctly cast to the schema's specified datatype\n",
    "    \"\"\"\n",
    "    \n",
    "    if datatype_enum == DatatypeEnum.string:\n",
    "        column.astype('string')\n",
    "        \n",
    "    if datatype_enum == DatatypeEnum.float:\n",
    "        column.astype('float64')\n",
    "\n",
    "    if datatype_enum == DatatypeEnum.integer:\n",
    "        column.astype('int64')\n",
    "        \n",
    "    if datatype_enum == DatatypeEnum.datetime:\n",
    "        pd.to_datetime(column)\n",
    "    \n",
    "    if datatype_enum == DatatypeEnum.any:\n",
    "        pass\n",
    "        \n",
    "    return None\n",
    "        "
   ]
  },
  {
   "cell_type": "code",
   "execution_count": 126,
   "id": "022a3860",
   "metadata": {},
   "outputs": [],
   "source": [
    "def ValidateDatatypeFormat(column, datatype_base: DatatypeEnum, datatype_format: str)-> None:\n",
    "    \"\"\" Validate format constraints for various types according to CSV On the Web Schema\n",
    "    \n",
    "    Only supporting string regexes for now, but in the future float precision and datetime formats can also be supported\n",
    "    \"\"\"\n",
    "    if datatype_base == DatatypeEnum.string:\n",
    "        ValidateStringFormat(column, datatype_format)\n",
    "\n",
    "    if datatype_base == DatatypeEnum.float:\n",
    "        pass\n",
    "    \n",
    "    if datatype_base == DatatypeEnum.datetime:\n",
    "        pass\n",
    "\n"
   ]
  },
  {
   "cell_type": "code",
   "execution_count": 129,
   "id": "cb023d7c",
   "metadata": {},
   "outputs": [],
   "source": [
    "class StringFormatException(Exception):\n",
    "    \n",
    "    def __init__(self, message=\"StringFormatException: String Values Failed to Match datatype_format\"):\n",
    "        self.message = message\n",
    "        super().__init__(self.message)"
   ]
  },
  {
   "cell_type": "code",
   "execution_count": 128,
   "id": "7041e998",
   "metadata": {},
   "outputs": [],
   "source": [
    "def ValidateStringFormat(column, datatype_format: str) -> None:\n",
    "    \n",
    "    find_matches = lambda cell: re.findall(datatype_format, cell)\n",
    "\n",
    "    def find_matches(cell):\n",
    "        return re.fullmatch(datatype_format, cell)\n",
    "    \n",
    "    matches = column.apply(find_matches)\n",
    "    \n",
    "    if any(matches == None):\n",
    "        raise StringFormatException\n",
    "    \n",
    "    return None"
   ]
  },
  {
   "cell_type": "code",
   "execution_count": 63,
   "id": "646dbab3",
   "metadata": {},
   "outputs": [],
   "source": [
    "def ValidateDatatype(datatype_schema: DatatypeSchema, column) -> List[Exception]:\n",
    "        validation_failures = []\n",
    "\n",
    "\n",
    "        # validate length\n",
    "        if datatype_schema.length != None:\n",
    "            if all(len(column) == datatype_schema.length) != True:\n",
    "                exception_message = f\"DatatypeValidationException: length validation failure\\n all values do not have length {datatype_schema.length}\"\n",
    "\n",
    "                validation_failures.append(\n",
    "                    DatatypeValidationException(\n",
    "                        error=\"length\", \n",
    "                        message=exception_message\n",
    "                    ) \n",
    "                )\n",
    "                \n",
    "\n",
    "        # validate maxLength\n",
    "        if datatype_schema.maxLength != None:\n",
    "            if any(len(column)>datatype_schema.maxLength):\n",
    "                exception_message = f\"DatatypeValidationException: maxLength validation failure\\nsome values have lengths > maxLength {datatype_schema.maxLength}\"\n",
    "\n",
    "                validation_failures.append(\n",
    "                    DatatypeValidationException(\n",
    "                        error=\"maxLength\", \n",
    "                        message=exception_message\n",
    "                    ) \n",
    "                )\n",
    "\n",
    "        # validate minLength\n",
    "        if datatype_schema.minLength != None:\n",
    "            if any(len(column)<datatype_schema.minLength):\n",
    "                exception_message = f\"DatatypeValidationException: minLength validation failure\\nsome values have lengths < minLength {datatype_schema.minLength}\"\n",
    "\n",
    "                validation_failures.append(\n",
    "                    DatatypeValidationException(\n",
    "                        error=\"minLength\", \n",
    "                        message=exception_message\n",
    "                    ) \n",
    "                )\n",
    "\n",
    "        # get min\n",
    "        if datatype_schema.min != None:\n",
    "            if any(column<datatype_schema.min):\n",
    "\n",
    "                exception_message = f\"DatatypeValidationException: min validation failure\\n some values have values < min {datatype_schema.min}\"\n",
    "\n",
    "                validation_failures.append(\n",
    "                    DatatypeValidationException(\n",
    "                        error=\"max\", \n",
    "                        message=exception_message\n",
    "                    ) \n",
    "                )\n",
    "\n",
    "        # get maximum\n",
    "        if datatype_schema.maximum != None:\n",
    "            if any(column<datatype_schema.max):\n",
    "\n",
    "                exception_message = f\"DatatypeValidationException: max validation failure\\n some values have values > max {datatype_schema.max}\"\n",
    "\n",
    "                validation_failures.append(\n",
    "                    DatatypeValidationException(\n",
    "                        error=\"max\", \n",
    "                        message=exception_message\n",
    "                    ) \n",
    "                )\n",
    "\n",
    "        # validateFormat        \n",
    "        # get the base and format\n",
    "        datatype_base = col_schema.datatype.base\n",
    "        datatype_format = col_schema.datatype.format\n",
    "\n",
    "        try:\n",
    "            ValidateDatatypeFormat(column, datatype_base, datatype_format)\n",
    "        except Exception as e:\n",
    "            validation_failures.append(e)\n",
    "\n",
    "        return validation_failures"
   ]
  },
  {
   "cell_type": "code",
   "execution_count": 64,
   "id": "68ad0d8b",
   "metadata": {},
   "outputs": [],
   "source": [
    "\n",
    "def ValidateColumn(column_schema: ColumnSchema, column):\n",
    "    failures = []\n",
    "\n",
    "    if column_schema.required == True:\n",
    "        try:\n",
    "            ValidateNullValue(column_schema.null, column) \n",
    "        except NAValidationException as e:\n",
    "            print(e)\n",
    "\n",
    "    # validate the datatype\n",
    "    match type(col_schema.datatype):\n",
    "\n",
    "        case DatatypeSchema():\n",
    "            datatype_validation_failures = ValidateDatatype(column, datatype_schema) \n",
    "\n",
    "\n",
    "        case DatatypeEnum():\n",
    "            try:\n",
    "                ValidateDatatypeEnum(column, datatype_schema.datatype)\n",
    "            except ValueError as e:\n",
    "                \n",
    "                failures.append(e) "
   ]
  },
  {
   "cell_type": "code",
   "execution_count": null,
   "id": "88935308",
   "metadata": {},
   "outputs": [],
   "source": []
  }
 ],
 "metadata": {
  "kernelspec": {
   "display_name": "Python 3 (ipykernel)",
   "language": "python",
   "name": "python3"
  },
  "language_info": {
   "codemirror_mode": {
    "name": "ipython",
    "version": 3
   },
   "file_extension": ".py",
   "mimetype": "text/x-python",
   "name": "python",
   "nbconvert_exporter": "python",
   "pygments_lexer": "ipython3",
   "version": "3.10.4"
  }
 },
 "nbformat": 4,
 "nbformat_minor": 5
}
