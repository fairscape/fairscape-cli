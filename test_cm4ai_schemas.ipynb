{
 "cells": [
  {
   "cell_type": "code",
   "execution_count": 1,
   "id": "d2d6b482-2742-4d1a-9aa2-9abc346b0e2d",
   "metadata": {},
   "outputs": [],
   "source": [
    "from fairscape_cli.models.schema.tabular import (\n",
    "    TabularValidationSchema,\n",
    "    ReadSchema\n",
    ")\n",
    "from fairscape_cli.models.schema.utils import (\n",
    "    GenerateSlice\n",
    ")"
   ]
  },
  {
   "cell_type": "code",
   "execution_count": 2,
   "id": "0a048e07-9c0d-4b81-9c1e-a9c3071bb942",
   "metadata": {},
   "outputs": [],
   "source": [
    "def ExecuteSchema(schema_path, data_path):\n",
    "    schema = ReadSchema(schema_path)\n",
    "    failures = schema.execute_validation(data_path)\n",
    "    return failures"
   ]
  },
  {
   "cell_type": "code",
   "execution_count": null,
   "id": "370f9689-21f0-49d8-9148-5cbe2b54ef5e",
   "metadata": {},
   "outputs": [],
   "source": [
    "crate_path = 'examples/schemas/cm4ai-rocrates'"
   ]
  },
  {
   "cell_type": "code",
   "execution_count": null,
   "id": "3e090772-e1bf-49df-8d4b-80253b49c1f7",
   "metadata": {},
   "outputs": [],
   "source": [
    "# declare paths to all schemas and datasets\n",
    "\n",
    "# apms loader\n",
    "apms_loader_gene_schema = '../cm4ai-schemas/v0.1.0/cm4ai_schema_apmsloader_ppi_edgelist.json'\n",
    "apms_loader_gene_data = crate_path + '/apmsloader/ppi_gene_node_attributes.tsv'\n",
    "\n",
    "apms_loader_edge_schema =  '../cm4ai-schemas/v0.1.0/cm4ai_schema_apmsloader_ppi_gene_node_attributes.json'\n",
    "apms_loader_edge_data = crate_path + '/apmsloader/ppi_gene_node_attributes.tsv'\n",
    "\n",
    "# apms embedding\n",
    "apms_embedding_schema = '../cm4ai-schemas/v0.1.0/cm4ai_schema_apms_embedding.json'\n",
    "apms_embedding_data = 'examples/schemas/cm4ai-rocrates/apms_embedding/ppi_emd.tsv'\n",
    "\n",
    "# image loader\n",
    "image_loader_samplescopy_schema = '../cm4ai-schemas/v0.1.0/cm4ai_schema_imageloader_samplescopy.json'\n",
    "image_loader_samplescopy_data = 'examples/schemas/cm4ai-rocrates/imageloader/samplescopy.csv'\n",
    "\n",
    "image_loader_uniquecopy_schema = '../cm4ai-schemas/v0.1.0/cm4ai_schema_imageloader_uniquecopy.json'\n",
    "image_loader_uniquecopy_data = 'examples/schemas/cm4ai-rocrates/imageloader/uniquecopy.csv'\n",
    "\n",
    "# image embedding\n",
    "image_embedding_labels_schema = '../cm4ai-schemas/v0.1.0/cm4ai_schema_image_embedding_labels_prob.json'\n",
    "image_embedding_labels_data = 'examples/schemas/cm4ai-rocrates/image_embedding/labels_prob.tsv'\n",
    "\n",
    "image_embedding_emd_schema = '../cm4ai-schemas/v0.1.0/cm4ai_schema_image_embedding_emd.json'\n",
    "image_embedding_emd_data = 'examples/schemas/cm4ai-rocrates/image_embedding/image_emd.tsv'\n",
    "\n",
    "# coembedding\n",
    "coembedding_schema = '../cm4ai-schemas/v0.1.0/cm4ai_schema_coembedding.json'\n",
    "coembedding_data = 'examples/schemas/cm4ai-rocrates/coembedding/coembedding_emd.tsv'"
   ]
  },
  {
   "cell_type": "code",
   "execution_count": null,
   "id": "5b7bdb0c-de99-4e18-8c9b-636a3f037dfd",
   "metadata": {},
   "outputs": [],
   "source": [
    "# apms loader\n",
    "gene_failures = ExecuteSchema(apms_loader_gene_schema ,apms_loader_edge_data)\n",
    "assert len(gene_failures) == 0\n",
    "\n",
    "edge_failures = ExecuteSchema(apms_loader_edge_schema, apms_loader_edge_data)\n",
    "assert len(edge_failures) == 0\n",
    "\n",
    "# apms embedding\n",
    "embedding_failures = ExecuteSchema(apms_embedding_schema, apms_embedding_data)\n",
    "assert len(embedding_failures) == 0\n",
    "\n",
    "# image loader\n",
    "samplescopy_failures = ExecuteSchema(image_loader_samplescopy_schema, image_loader_samplescopy_data)\n",
    "assert len(samplescopy_failures) == 0\n",
    "\n",
    "uniquecopy_failures = ExecuteSchema(image_loader_uniquecopy_schema, image_loader_uniquecopy_data)\n",
    "assert len(uniquecopy_failures) == 0\n",
    "\n",
    "# image embedding\n",
    "emd_failures = ExecuteSchema(image_embedding_emd_schema, image_embedding_emd_data)\n",
    "assert len(emd_failures) == 0\n",
    "\n",
    "labels_failures = ExecuteSchema(image_embedding_labels_schema, image_embedding_labels_data)\n",
    "assert len(labels_failures) == 0 \n",
    "\n",
    "# coembedding\n",
    "coembedding_failures = ExecuteSchema(coembedding_schema, coembedding_data)\n",
    "assert len(coembedding_failures) == 0 "
   ]
  },
  {
   "cell_type": "code",
   "execution_count": null,
   "id": "9e967a58-453b-4bb9-9229-d3f33a6e9ae7",
   "metadata": {},
   "outputs": [],
   "source": [
    "# try some deliberate failures\n",
    "must_fail = ExecuteSchema(image_loader_samplescopy_schema, image_loader_uniquecopy_data)"
   ]
  },
  {
   "cell_type": "code",
   "execution_count": 6,
   "id": "e54cdd64-5f20-44df-8065-75f53924e4e6",
   "metadata": {},
   "outputs": [],
   "source": [
    "from jsonschema import validate\n",
    "from fairscape_cli.models.schema.tabular import (\n",
    "    TabularValidationSchema,\n",
    "    ReadSchema\n",
    ")\n",
    "\n",
    "def ExecuteSchema(schema_path, data_path):\n",
    "    schema = ReadSchema(schema_path)\n",
    "    failures = schema.execute_validation(data_path)\n",
    "    return failures\n",
    "    \n",
    "music_schema = 'examples/schemas/MUSIC_embedding/music_apms_embedding_schema.json'\n",
    "music_data = 'examples/schemas/MUSIC_embedding/APMS_embedding_MUSIC.csv'\n",
    "music_corrupted = 'examples/schemas/MUSIC_embedding/APMS_embedding_corrupted.csv'"
   ]
  },
  {
   "cell_type": "code",
   "execution_count": 2,
   "id": "ff33efb8-13a6-4d9e-9b69-c648c69b73e6",
   "metadata": {},
   "outputs": [
    {
     "name": "stdout",
     "output_type": "stream",
     "text": [
      "1983\n"
     ]
    },
    {
     "ename": "KeyboardInterrupt",
     "evalue": "",
     "output_type": "error",
     "traceback": [
      "\u001b[0;31m---------------------------------------------------------------------------\u001b[0m",
      "\u001b[0;31mKeyboardInterrupt\u001b[0m                         Traceback (most recent call last)",
      "Cell \u001b[0;32mIn[2], line 1\u001b[0m\n\u001b[0;32m----> 1\u001b[0m errors \u001b[38;5;241m=\u001b[39m \u001b[43mExecuteSchema\u001b[49m\u001b[43m(\u001b[49m\u001b[43mmusic_schema\u001b[49m\u001b[43m,\u001b[49m\u001b[43m \u001b[49m\u001b[43mmusic_data\u001b[49m\u001b[43m)\u001b[49m\n",
      "Cell \u001b[0;32mIn[1], line 9\u001b[0m, in \u001b[0;36mExecuteSchema\u001b[0;34m(schema_path, data_path)\u001b[0m\n\u001b[1;32m      7\u001b[0m \u001b[38;5;28;01mdef\u001b[39;00m \u001b[38;5;21mExecuteSchema\u001b[39m(schema_path, data_path):\n\u001b[1;32m      8\u001b[0m     schema \u001b[38;5;241m=\u001b[39m ReadSchema(schema_path)\n\u001b[0;32m----> 9\u001b[0m     failures \u001b[38;5;241m=\u001b[39m \u001b[43mschema\u001b[49m\u001b[38;5;241;43m.\u001b[39;49m\u001b[43mexecute_validation\u001b[49m\u001b[43m(\u001b[49m\u001b[43mdata_path\u001b[49m\u001b[43m)\u001b[49m\n\u001b[1;32m     10\u001b[0m     \u001b[38;5;28;01mreturn\u001b[39;00m failures\n",
      "File \u001b[0;32m~/fairscape/fairscape-cli/fairscape_cli/models/schema/tabular.py:330\u001b[0m, in \u001b[0;36mTabularValidationSchema.execute_validation\u001b[0;34m(self, dataPath)\u001b[0m\n\u001b[1;32m    328\u001b[0m validator \u001b[38;5;241m=\u001b[39m jsonschema\u001b[38;5;241m.\u001b[39mDraft202012Validator(schema_definition)\n\u001b[1;32m    329\u001b[0m \u001b[38;5;28;01mfor\u001b[39;00m i, json_elem \u001b[38;5;129;01min\u001b[39;00m \u001b[38;5;28menumerate\u001b[39m(json_objects):\n\u001b[0;32m--> 330\u001b[0m     errors \u001b[38;5;241m=\u001b[39m \u001b[38;5;28;43msorted\u001b[39;49m\u001b[43m(\u001b[49m\u001b[43mvalidator\u001b[49m\u001b[38;5;241;43m.\u001b[39;49m\u001b[43miter_errors\u001b[49m\u001b[43m(\u001b[49m\u001b[43mjson_elem\u001b[49m\u001b[43m)\u001b[49m\u001b[43m,\u001b[49m\u001b[43m \u001b[49m\u001b[43mkey\u001b[49m\u001b[38;5;241;43m=\u001b[39;49m\u001b[38;5;28;43;01mlambda\u001b[39;49;00m\u001b[43m \u001b[49m\u001b[43me\u001b[49m\u001b[43m:\u001b[49m\u001b[43m \u001b[49m\u001b[43me\u001b[49m\u001b[38;5;241;43m.\u001b[39;49m\u001b[43mpath\u001b[49m\u001b[43m)\u001b[49m\n\u001b[1;32m    332\u001b[0m     \u001b[38;5;28;01mif\u001b[39;00m \u001b[38;5;28mlen\u001b[39m(errors) \u001b[38;5;241m==\u001b[39m \u001b[38;5;241m0\u001b[39m:\n\u001b[1;32m    333\u001b[0m         \u001b[38;5;28;01mpass\u001b[39;00m\n",
      "File \u001b[0;32m~/fairscape/.venv/lib/python3.12/site-packages/jsonschema/validators.py:368\u001b[0m, in \u001b[0;36mcreate.<locals>.Validator.iter_errors\u001b[0;34m(self, instance, _schema)\u001b[0m\n\u001b[1;32m    365\u001b[0m     \u001b[38;5;28;01mcontinue\u001b[39;00m\n\u001b[1;32m    367\u001b[0m errors \u001b[38;5;241m=\u001b[39m validator(\u001b[38;5;28mself\u001b[39m, v, instance, _schema) \u001b[38;5;129;01mor\u001b[39;00m ()\n\u001b[0;32m--> 368\u001b[0m \u001b[43m\u001b[49m\u001b[38;5;28;43;01mfor\u001b[39;49;00m\u001b[43m \u001b[49m\u001b[43merror\u001b[49m\u001b[43m \u001b[49m\u001b[38;5;129;43;01min\u001b[39;49;00m\u001b[43m \u001b[49m\u001b[43merrors\u001b[49m\u001b[43m:\u001b[49m\n\u001b[1;32m    369\u001b[0m \u001b[43m    \u001b[49m\u001b[38;5;66;43;03m# set details if not already set by the called fn\u001b[39;49;00m\n\u001b[1;32m    370\u001b[0m \u001b[43m    \u001b[49m\u001b[43merror\u001b[49m\u001b[38;5;241;43m.\u001b[39;49m\u001b[43m_set\u001b[49m\u001b[43m(\u001b[49m\n\u001b[1;32m    371\u001b[0m \u001b[43m        \u001b[49m\u001b[43mvalidator\u001b[49m\u001b[38;5;241;43m=\u001b[39;49m\u001b[43mk\u001b[49m\u001b[43m,\u001b[49m\n\u001b[1;32m    372\u001b[0m \u001b[43m        \u001b[49m\u001b[43mvalidator_value\u001b[49m\u001b[38;5;241;43m=\u001b[39;49m\u001b[43mv\u001b[49m\u001b[43m,\u001b[49m\n\u001b[0;32m   (...)\u001b[0m\n\u001b[1;32m    375\u001b[0m \u001b[43m        \u001b[49m\u001b[43mtype_checker\u001b[49m\u001b[38;5;241;43m=\u001b[39;49m\u001b[38;5;28;43mself\u001b[39;49m\u001b[38;5;241;43m.\u001b[39;49m\u001b[43mTYPE_CHECKER\u001b[49m\u001b[43m,\u001b[49m\n\u001b[1;32m    376\u001b[0m \u001b[43m    \u001b[49m\u001b[43m)\u001b[49m\n\u001b[1;32m    377\u001b[0m \u001b[43m    \u001b[49m\u001b[38;5;28;43;01mif\u001b[39;49;00m\u001b[43m \u001b[49m\u001b[43mk\u001b[49m\u001b[43m \u001b[49m\u001b[38;5;129;43;01mnot\u001b[39;49;00m\u001b[43m \u001b[49m\u001b[38;5;129;43;01min\u001b[39;49;00m\u001b[43m \u001b[49m\u001b[43m{\u001b[49m\u001b[38;5;124;43m\"\u001b[39;49m\u001b[38;5;124;43mif\u001b[39;49m\u001b[38;5;124;43m\"\u001b[39;49m\u001b[43m,\u001b[49m\u001b[43m \u001b[49m\u001b[38;5;124;43m\"\u001b[39;49m\u001b[38;5;124;43m$ref\u001b[39;49m\u001b[38;5;124;43m\"\u001b[39;49m\u001b[43m}\u001b[49m\u001b[43m:\u001b[49m\n",
      "File \u001b[0;32m~/fairscape/.venv/lib/python3.12/site-packages/jsonschema/_keywords.py:295\u001b[0m, in \u001b[0;36mproperties\u001b[0;34m(validator, properties, instance, schema)\u001b[0m\n\u001b[1;32m    293\u001b[0m \u001b[38;5;28;01mfor\u001b[39;00m \u001b[38;5;28mproperty\u001b[39m, subschema \u001b[38;5;129;01min\u001b[39;00m properties\u001b[38;5;241m.\u001b[39mitems():\n\u001b[1;32m    294\u001b[0m     \u001b[38;5;28;01mif\u001b[39;00m \u001b[38;5;28mproperty\u001b[39m \u001b[38;5;129;01min\u001b[39;00m instance:\n\u001b[0;32m--> 295\u001b[0m         \u001b[38;5;28;01myield from\u001b[39;00m validator\u001b[38;5;241m.\u001b[39mdescend(\n\u001b[1;32m    296\u001b[0m             instance[\u001b[38;5;28mproperty\u001b[39m],\n\u001b[1;32m    297\u001b[0m             subschema,\n\u001b[1;32m    298\u001b[0m             path\u001b[38;5;241m=\u001b[39m\u001b[38;5;28mproperty\u001b[39m,\n\u001b[1;32m    299\u001b[0m             schema_path\u001b[38;5;241m=\u001b[39m\u001b[38;5;28mproperty\u001b[39m,\n\u001b[1;32m    300\u001b[0m         )\n",
      "File \u001b[0;32m~/fairscape/.venv/lib/python3.12/site-packages/jsonschema/validators.py:416\u001b[0m, in \u001b[0;36mcreate.<locals>.Validator.descend\u001b[0;34m(self, instance, schema, path, schema_path, resolver)\u001b[0m\n\u001b[1;32m    413\u001b[0m     \u001b[38;5;28;01mcontinue\u001b[39;00m\n\u001b[1;32m    415\u001b[0m errors \u001b[38;5;241m=\u001b[39m validator(evolved, v, instance, schema) \u001b[38;5;129;01mor\u001b[39;00m ()\n\u001b[0;32m--> 416\u001b[0m \u001b[43m\u001b[49m\u001b[38;5;28;43;01mfor\u001b[39;49;00m\u001b[43m \u001b[49m\u001b[43merror\u001b[49m\u001b[43m \u001b[49m\u001b[38;5;129;43;01min\u001b[39;49;00m\u001b[43m \u001b[49m\u001b[43merrors\u001b[49m\u001b[43m:\u001b[49m\n\u001b[1;32m    417\u001b[0m \u001b[43m    \u001b[49m\u001b[38;5;66;43;03m# set details if not already set by the called fn\u001b[39;49;00m\n\u001b[1;32m    418\u001b[0m \u001b[43m    \u001b[49m\u001b[43merror\u001b[49m\u001b[38;5;241;43m.\u001b[39;49m\u001b[43m_set\u001b[49m\u001b[43m(\u001b[49m\n\u001b[1;32m    419\u001b[0m \u001b[43m        \u001b[49m\u001b[43mvalidator\u001b[49m\u001b[38;5;241;43m=\u001b[39;49m\u001b[43mk\u001b[49m\u001b[43m,\u001b[49m\n\u001b[1;32m    420\u001b[0m \u001b[43m        \u001b[49m\u001b[43mvalidator_value\u001b[49m\u001b[38;5;241;43m=\u001b[39;49m\u001b[43mv\u001b[49m\u001b[43m,\u001b[49m\n\u001b[0;32m   (...)\u001b[0m\n\u001b[1;32m    423\u001b[0m \u001b[43m        \u001b[49m\u001b[43mtype_checker\u001b[49m\u001b[38;5;241;43m=\u001b[39;49m\u001b[43mevolved\u001b[49m\u001b[38;5;241;43m.\u001b[39;49m\u001b[43mTYPE_CHECKER\u001b[49m\u001b[43m,\u001b[49m\n\u001b[1;32m    424\u001b[0m \u001b[43m    \u001b[49m\u001b[43m)\u001b[49m\n\u001b[1;32m    425\u001b[0m \u001b[43m    \u001b[49m\u001b[38;5;28;43;01mif\u001b[39;49;00m\u001b[43m \u001b[49m\u001b[43mk\u001b[49m\u001b[43m \u001b[49m\u001b[38;5;129;43;01mnot\u001b[39;49;00m\u001b[43m \u001b[49m\u001b[38;5;129;43;01min\u001b[39;49;00m\u001b[43m \u001b[49m\u001b[43m{\u001b[49m\u001b[38;5;124;43m\"\u001b[39;49m\u001b[38;5;124;43mif\u001b[39;49m\u001b[38;5;124;43m\"\u001b[39;49m\u001b[43m,\u001b[49m\u001b[43m \u001b[49m\u001b[38;5;124;43m\"\u001b[39;49m\u001b[38;5;124;43m$ref\u001b[39;49m\u001b[38;5;124;43m\"\u001b[39;49m\u001b[43m}\u001b[49m\u001b[43m:\u001b[49m\n",
      "File \u001b[0;32m~/fairscape/.venv/lib/python3.12/site-packages/jsonschema/_keywords.py:79\u001b[0m, in \u001b[0;36mitems\u001b[0;34m(validator, items, instance, schema)\u001b[0m\n\u001b[1;32m     77\u001b[0m \u001b[38;5;28;01melse\u001b[39;00m:\n\u001b[1;32m     78\u001b[0m     \u001b[38;5;28;01mfor\u001b[39;00m index \u001b[38;5;129;01min\u001b[39;00m \u001b[38;5;28mrange\u001b[39m(prefix, total):\n\u001b[0;32m---> 79\u001b[0m         \u001b[38;5;28;01myield from\u001b[39;00m validator\u001b[38;5;241m.\u001b[39mdescend(\n\u001b[1;32m     80\u001b[0m             instance\u001b[38;5;241m=\u001b[39minstance[index],\n\u001b[1;32m     81\u001b[0m             schema\u001b[38;5;241m=\u001b[39mitems,\n\u001b[1;32m     82\u001b[0m             path\u001b[38;5;241m=\u001b[39mindex,\n\u001b[1;32m     83\u001b[0m         )\n",
      "File \u001b[0;32m~/fairscape/.venv/lib/python3.12/site-packages/jsonschema/validators.py:408\u001b[0m, in \u001b[0;36mcreate.<locals>.Validator.descend\u001b[0;34m(self, instance, schema, path, schema_path, resolver)\u001b[0m\n\u001b[1;32m    404\u001b[0m     \u001b[38;5;28;01mif\u001b[39;00m resolver \u001b[38;5;129;01mis\u001b[39;00m \u001b[38;5;28;01mNone\u001b[39;00m:\n\u001b[1;32m    405\u001b[0m         resolver \u001b[38;5;241m=\u001b[39m \u001b[38;5;28mself\u001b[39m\u001b[38;5;241m.\u001b[39m_resolver\u001b[38;5;241m.\u001b[39min_subresource(\n\u001b[1;32m    406\u001b[0m             specification\u001b[38;5;241m.\u001b[39mcreate_resource(schema),\n\u001b[1;32m    407\u001b[0m         )\n\u001b[0;32m--> 408\u001b[0m     evolved \u001b[38;5;241m=\u001b[39m \u001b[38;5;28;43mself\u001b[39;49m\u001b[38;5;241;43m.\u001b[39;49m\u001b[43mevolve\u001b[49m\u001b[43m(\u001b[49m\u001b[43mschema\u001b[49m\u001b[38;5;241;43m=\u001b[39;49m\u001b[43mschema\u001b[49m\u001b[43m,\u001b[49m\u001b[43m \u001b[49m\u001b[43m_resolver\u001b[49m\u001b[38;5;241;43m=\u001b[39;49m\u001b[43mresolver\u001b[49m\u001b[43m)\u001b[49m\n\u001b[1;32m    410\u001b[0m \u001b[38;5;28;01mfor\u001b[39;00m k, v \u001b[38;5;129;01min\u001b[39;00m applicable_validators(schema):\n\u001b[1;32m    411\u001b[0m     validator \u001b[38;5;241m=\u001b[39m evolved\u001b[38;5;241m.\u001b[39mVALIDATORS\u001b[38;5;241m.\u001b[39mget(k)\n",
      "File \u001b[0;32m~/fairscape/.venv/lib/python3.12/site-packages/jsonschema/validators.py:325\u001b[0m, in \u001b[0;36mcreate.<locals>.Validator.evolve\u001b[0;34m(self, **changes)\u001b[0m\n\u001b[1;32m    319\u001b[0m         \u001b[38;5;28mself\u001b[39m\u001b[38;5;241m.\u001b[39m_ref_resolver \u001b[38;5;241m=\u001b[39m _RefResolver\u001b[38;5;241m.\u001b[39mfrom_schema(\n\u001b[1;32m    320\u001b[0m             \u001b[38;5;28mself\u001b[39m\u001b[38;5;241m.\u001b[39mschema,\n\u001b[1;32m    321\u001b[0m             id_of\u001b[38;5;241m=\u001b[39mid_of,\n\u001b[1;32m    322\u001b[0m         )\n\u001b[1;32m    323\u001b[0m     \u001b[38;5;28;01mreturn\u001b[39;00m \u001b[38;5;28mself\u001b[39m\u001b[38;5;241m.\u001b[39m_ref_resolver\n\u001b[0;32m--> 325\u001b[0m \u001b[38;5;28;01mdef\u001b[39;00m \u001b[38;5;21mevolve\u001b[39m(\u001b[38;5;28mself\u001b[39m, \u001b[38;5;241m*\u001b[39m\u001b[38;5;241m*\u001b[39mchanges):\n\u001b[1;32m    326\u001b[0m     schema \u001b[38;5;241m=\u001b[39m changes\u001b[38;5;241m.\u001b[39msetdefault(\u001b[38;5;124m\"\u001b[39m\u001b[38;5;124mschema\u001b[39m\u001b[38;5;124m\"\u001b[39m, \u001b[38;5;28mself\u001b[39m\u001b[38;5;241m.\u001b[39mschema)\n\u001b[1;32m    327\u001b[0m     NewValidator \u001b[38;5;241m=\u001b[39m validator_for(schema, default\u001b[38;5;241m=\u001b[39m\u001b[38;5;28mself\u001b[39m\u001b[38;5;241m.\u001b[39m\u001b[38;5;18m__class__\u001b[39m)\n",
      "\u001b[0;31mKeyboardInterrupt\u001b[0m: "
     ]
    }
   ],
   "source": [
    "errors = ExecuteSchema(music_schema, music_data)"
   ]
  },
  {
   "cell_type": "code",
   "execution_count": 3,
   "id": "84c5328f-8ac2-4422-b702-659fa06bded8",
   "metadata": {},
   "outputs": [
    {
     "data": {
      "text/plain": [
       "0"
      ]
     },
     "execution_count": 3,
     "metadata": {},
     "output_type": "execute_result"
    }
   ],
   "source": [
    "len(errors)"
   ]
  },
  {
   "cell_type": "code",
   "execution_count": 7,
   "id": "3d3e4325-7f3f-48de-8998-bb1d516f9ac8",
   "metadata": {},
   "outputs": [
    {
     "name": "stdout",
     "output_type": "stream",
     "text": [
      "8\n",
      "['APMS_A', 'APMS_2', 'APMS_3', 'APMS_4', 'APMS_5', 'APMS_6', 'APMS_7', 'APMS_8']\n"
     ]
    }
   ],
   "source": [
    "cor_errors = ExecuteSchema(music_schema, music_corrupted)"
   ]
  },
  {
   "cell_type": "code",
   "execution_count": 8,
   "id": "1ff46d65-030f-4caa-b662-f91a3f89d690",
   "metadata": {},
   "outputs": [
    {
     "data": {
      "text/plain": [
       "[{'message': 'ValueError: Failed to Parse Attribute embed for Row 3',\n",
       "  'type': 'ParsingError',\n",
       "  'row': 3,\n",
       "  'exception': ValueError(\"could not convert string to float: ' '\")},\n",
       " {'message': 'ValueError: Failed to Parse Attribute embed for Row 4',\n",
       "  'type': 'ParsingError',\n",
       "  'row': 4,\n",
       "  'exception': ValueError(\"could not convert string to float: 'Not A Float'\")},\n",
       " {'message': \"'APMS_A' does not match '^APMS_[0-9]*$'\",\n",
       "  'row': 0,\n",
       "  'type': 'ValidationError',\n",
       "  'failed_keyword': 'pattern',\n",
       "  'schema_path': deque(['properties', 'Experiment Identifier', 'pattern'])},\n",
       " {'message': \"' -8- ' does not match '^[A-Z0-9]*$'\",\n",
       "  'row': 1,\n",
       "  'type': 'ValidationError',\n",
       "  'failed_keyword': 'pattern',\n",
       "  'schema_path': deque(['properties', 'Gene Symbol', 'pattern'])},\n",
       " {'message': \"'-`~' does not match '^[A-Z0-9]*$'\",\n",
       "  'row': 2,\n",
       "  'type': 'ValidationError',\n",
       "  'failed_keyword': 'pattern',\n",
       "  'schema_path': deque(['properties', 'Gene Symbol', 'pattern'])},\n",
       " {'message': \"'embed' is a required property\",\n",
       "  'row': 3,\n",
       "  'type': 'ValidationError',\n",
       "  'failed_keyword': 'required',\n",
       "  'schema_path': deque(['required'])},\n",
       " {'message': \"'embed' is a required property\",\n",
       "  'row': 4,\n",
       "  'type': 'ValidationError',\n",
       "  'failed_keyword': 'required',\n",
       "  'schema_path': deque(['required'])}]"
      ]
     },
     "execution_count": 8,
     "metadata": {},
     "output_type": "execute_result"
    }
   ],
   "source": [
    "cor_errors"
   ]
  },
  {
   "cell_type": "code",
   "execution_count": 9,
   "id": "fc6ed1cc-6745-4af3-9786-b97a1e033cb8",
   "metadata": {},
   "outputs": [
    {
     "data": {
      "text/plain": [
       "{'message': \"'Embedding' is a required property\",\n",
       " 'row': 2,\n",
       " 'type': 'ValidationError',\n",
       " 'failed_keyword': '$'}"
      ]
     },
     "execution_count": 9,
     "metadata": {},
     "output_type": "execute_result"
    }
   ],
   "source": [
    "errors[2]"
   ]
  },
  {
   "cell_type": "code",
   "execution_count": null,
   "id": "ec9da13d-7ca6-4471-9279-3e15f2865f56",
   "metadata": {},
   "outputs": [],
   "source": [
    "music_schema_class = ReadSchema(music_schema)\n",
    "music_schema_jsonschema = music_schema_class.model_dump(\n",
    "    by_alias=True, \n",
    "    exclude_unset=True, \n",
    "    exclude_none=True\n",
    ")\n"
   ]
  },
  {
   "cell_type": "code",
   "execution_count": null,
   "id": "9ae034f4-d04e-4e11-b9cd-58eafe8af2d0",
   "metadata": {},
   "outputs": [],
   "source": [
    "music_schema_class.convert_json(music_data)"
   ]
  },
  {
   "cell_type": "code",
   "execution_count": null,
   "id": "04d2796f-cf6e-4846-91ab-119d4803ea28",
   "metadata": {},
   "outputs": [],
   "source": [
    "validate(\n",
    "    schema=music_schema_raw,\n",
    "    instance={'"
   ]
  },
  {
   "cell_type": "code",
   "execution_count": null,
   "id": "ba33b060-bc2b-4fcc-9780-ecb9dc062ab7",
   "metadata": {},
   "outputs": [],
   "source": [
    "schema"
   ]
  },
  {
   "cell_type": "code",
   "execution_count": null,
   "id": "905af59a-81c2-402b-bac7-5e8608c09e84",
   "metadata": {},
   "outputs": [],
   "source": [
    "len(must_fail)"
   ]
  },
  {
   "cell_type": "code",
   "execution_count": null,
   "id": "332b02ae-d376-43b7-ad01-c4f4dc275673",
   "metadata": {},
   "outputs": [],
   "source": [
    "['a','b','c'] + ['d','e','f']"
   ]
  },
  {
   "cell_type": "code",
   "execution_count": null,
   "id": "4624d500-77c9-40e9-afbb-9cd6f989c714",
   "metadata": {},
   "outputs": [],
   "source": []
  }
 ],
 "metadata": {
  "kernelspec": {
   "display_name": "Python 3 (ipykernel)",
   "language": "python",
   "name": "python3"
  },
  "language_info": {
   "codemirror_mode": {
    "name": "ipython",
    "version": 3
   },
   "file_extension": ".py",
   "mimetype": "text/x-python",
   "name": "python",
   "nbconvert_exporter": "python",
   "pygments_lexer": "ipython3",
   "version": "3.12.1"
  }
 },
 "nbformat": 4,
 "nbformat_minor": 5
}
