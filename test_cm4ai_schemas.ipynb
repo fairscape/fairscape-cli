{
 "cells": [
  {
   "cell_type": "code",
   "execution_count": 31,
   "id": "d2d6b482-2742-4d1a-9aa2-9abc346b0e2d",
   "metadata": {},
   "outputs": [],
   "source": [
    "from fairscape_cli.models.schema.tabular import (\n",
    "    TabularValidationSchema,\n",
    "    ReadSchema\n",
    ")\n",
    "from fairscape_cli.models.schema.utils import (\n",
    "    GenerateSlice\n",
    ")"
   ]
  },
  {
   "cell_type": "code",
   "execution_count": 34,
   "id": "0a048e07-9c0d-4b81-9c1e-a9c3071bb942",
   "metadata": {},
   "outputs": [],
   "source": [
    "def ExecuteSchema(schema_path, data_path):\n",
    "    schema = ReadSchema(schema_path)\n",
    "    failures = schema.execute_validation(data_path)\n",
    "    return failures"
   ]
  },
  {
   "cell_type": "code",
   "execution_count": null,
   "id": "370f9689-21f0-49d8-9148-5cbe2b54ef5e",
   "metadata": {},
   "outputs": [],
   "source": []
  },
  {
   "cell_type": "code",
   "execution_count": 82,
   "id": "3e090772-e1bf-49df-8d4b-80253b49c1f7",
   "metadata": {},
   "outputs": [],
   "source": [
    "# declare paths to all schemas and datasets\n",
    "crate_path = 'examples/schemas/cm4ai-rocrates'\n",
    "\n",
    "# apms loader\n",
    "apms_loader_edgelist_schema = '../cm4ai-schemas/v0.1.0/cm4ai_schema_apmsloader_ppi_edgelist.json'\n",
    "apms_loader_edgelist_data = crate_path + '/apmsloader/ppi_gene_node_attributes.tsv'\n",
    "\n",
    "apms_loader_gene_node_schema =  '../cm4ai-schemas/v0.1.0/cm4ai_schema_apmsloader_ppi_gene_node_attributes.json'\n",
    "apms_loader_gene_node_data = crate_path + '/apmsloader/ppi_gene_node_attributes.tsv'\n",
    "\n",
    "# apms embedding\n",
    "apms_embedding_schema = '../cm4ai-schemas/v0.1.0/cm4ai_schema_apms_embedding.json'\n",
    "apms_embedding_data = 'examples/schemas/cm4ai-rocrates/apms_embedding/ppi_emd.tsv'\n",
    "\n",
    "# image loader\n",
    "image_loader_samplescopy_schema = '../cm4ai-schemas/v0.1.0/cm4ai_schema_imageloader_samplescopy.json'\n",
    "image_loader_samplescopy_data = 'examples/schemas/cm4ai-rocrates/imageloader/samplescopy.csv'\n",
    "\n",
    "image_loader_uniquecopy_schema = '../cm4ai-schemas/v0.1.0/cm4ai_schema_imageloader_uniquecopy.json'\n",
    "image_loader_uniquecopy_data = 'examples/schemas/cm4ai-rocrates/imageloader/uniquecopy.csv'\n",
    "\n",
    "# image embedding\n",
    "image_embedding_labels_schema = '../cm4ai-schemas/v0.1.0/cm4ai_schema_image_embedding_labels_prob.json'\n",
    "image_embedding_labels_data = 'examples/schemas/cm4ai-rocrates/image_embedding/labels_prob.tsv'\n",
    "\n",
    "image_embedding_emd_schema = '../cm4ai-schemas/v0.1.0/cm4ai_schema_image_embedding_emd.json'\n",
    "image_embedding_emd_data = 'examples/schemas/cm4ai-rocrates/image_embedding/image_emd.tsv'\n",
    "\n",
    "# coembedding\n",
    "coembedding_schema = '../cm4ai-schemas/v0.1.0/cm4ai_schema_coembedding.json'\n",
    "coembedding_data = 'examples/schemas/cm4ai-rocrates/coembedding/coembedding_emd.tsv'"
   ]
  },
  {
   "cell_type": "code",
   "execution_count": 83,
   "id": "aaab2ca1-85a2-473b-b39b-0164c1c2bd63",
   "metadata": {},
   "outputs": [],
   "source": [
    "gene_failures = ExecuteSchema(apms_loader_gene_node_schema ,apms_loader_gene_node_data)\n",
    "assert len(gene_failures) == 0\n"
   ]
  },
  {
   "cell_type": "code",
   "execution_count": 84,
   "id": "4d2eb071-739d-4f1c-8d3d-81f2180b78e0",
   "metadata": {},
   "outputs": [
    {
     "data": {
      "text/plain": [
       "[]"
      ]
     },
     "execution_count": 84,
     "metadata": {},
     "output_type": "execute_result"
    }
   ],
   "source": [
    "gene_failures"
   ]
  },
  {
   "cell_type": "code",
   "execution_count": 85,
   "id": "a3d3edfe-4c97-40da-bf45-40a2177c5338",
   "metadata": {},
   "outputs": [],
   "source": [
    "edgelist_failures = ExecuteSchema(apms_loader_edgelist_schema, apms_loader_edgelist_data)\n",
    "assert len(edgelist_failures) == 0\n"
   ]
  },
  {
   "cell_type": "code",
   "execution_count": 86,
   "id": "435781d0-4342-4d15-b842-a2a046b2653f",
   "metadata": {},
   "outputs": [
    {
     "data": {
      "text/plain": [
       "[]"
      ]
     },
     "execution_count": 86,
     "metadata": {},
     "output_type": "execute_result"
    }
   ],
   "source": [
    "edgelist_failures"
   ]
  },
  {
   "cell_type": "code",
   "execution_count": 87,
   "id": "8515cb81-4bcf-479b-8b42-e589c8ab003e",
   "metadata": {},
   "outputs": [],
   "source": [
    "\n",
    "# apms embedding\n",
    "embedding_failures = ExecuteSchema(apms_embedding_schema, apms_embedding_data)\n",
    "assert len(embedding_failures) == 0"
   ]
  },
  {
   "cell_type": "code",
   "execution_count": 88,
   "id": "94b754f9-291b-4a6d-8d8b-26955c757a6f",
   "metadata": {},
   "outputs": [
    {
     "data": {
      "text/plain": [
       "[]"
      ]
     },
     "execution_count": 88,
     "metadata": {},
     "output_type": "execute_result"
    }
   ],
   "source": [
    "embedding_failures"
   ]
  },
  {
   "cell_type": "code",
   "execution_count": 89,
   "id": "75735dc2-d30b-4087-b5d9-3a1433780a72",
   "metadata": {},
   "outputs": [],
   "source": [
    "# image loader\n",
    "samplescopy_failures = ExecuteSchema(image_loader_samplescopy_schema, image_loader_samplescopy_data)\n",
    "assert len(samplescopy_failures) == 0"
   ]
  },
  {
   "cell_type": "code",
   "execution_count": 77,
   "id": "7512261b-da53-44fe-bc8f-8f89516645ee",
   "metadata": {},
   "outputs": [
    {
     "data": {
      "text/plain": [
       "[]"
      ]
     },
     "execution_count": 77,
     "metadata": {},
     "output_type": "execute_result"
    }
   ],
   "source": [
    "samplescopy_failures"
   ]
  },
  {
   "cell_type": "code",
   "execution_count": 80,
   "id": "708cfbbb-f7aa-4b54-a997-cc20ade484bc",
   "metadata": {},
   "outputs": [],
   "source": [
    "\n",
    "uniquecopy_failures = ExecuteSchema(image_loader_uniquecopy_schema, image_loader_uniquecopy_data)\n",
    "assert len(uniquecopy_failures) == 0"
   ]
  },
  {
   "cell_type": "code",
   "execution_count": 81,
   "id": "87dc6bce-1613-4674-bcfa-abfc46a438ad",
   "metadata": {},
   "outputs": [
    {
     "data": {
      "text/plain": [
       "[]"
      ]
     },
     "execution_count": 81,
     "metadata": {},
     "output_type": "execute_result"
    }
   ],
   "source": [
    "uniquecopy_failures"
   ]
  },
  {
   "cell_type": "code",
   "execution_count": 64,
   "id": "34a9cd8b-c22f-4629-84f1-9da3aad94c18",
   "metadata": {},
   "outputs": [],
   "source": [
    "\n",
    "# image embedding\n",
    "emd_failures = ExecuteSchema(image_embedding_emd_schema, image_embedding_emd_data)\n",
    "assert len(emd_failures) == 0"
   ]
  },
  {
   "cell_type": "code",
   "execution_count": 65,
   "id": "9b25f902-7db8-4717-8a6b-479d490277b7",
   "metadata": {},
   "outputs": [],
   "source": [
    "\n",
    "\n",
    "labels_failures = ExecuteSchema(image_embedding_labels_schema, image_embedding_labels_data)\n",
    "assert len(labels_failures) == 0 \n"
   ]
  },
  {
   "cell_type": "code",
   "execution_count": 68,
   "id": "5b7bdb0c-de99-4e18-8c9b-636a3f037dfd",
   "metadata": {},
   "outputs": [],
   "source": [
    "# coembedding\n",
    "coembedding_failures = ExecuteSchema(coembedding_schema, coembedding_data)\n",
    "assert len(coembedding_failures) == 0 "
   ]
  },
  {
   "cell_type": "code",
   "execution_count": 69,
   "id": "9e967a58-453b-4bb9-9229-d3f33a6e9ae7",
   "metadata": {},
   "outputs": [],
   "source": [
    "# try some deliberate failures\n",
    "must_fail = ExecuteSchema(image_loader_samplescopy_schema, image_loader_uniquecopy_data)"
   ]
  },
  {
   "cell_type": "code",
   "execution_count": null,
   "id": "36906302-69f3-4db4-ba97-ca8f99031229",
   "metadata": {},
   "outputs": [],
   "source": [
    "\n"
   ]
  },
  {
   "cell_type": "code",
   "execution_count": 90,
   "id": "e54cdd64-5f20-44df-8065-75f53924e4e6",
   "metadata": {},
   "outputs": [],
   "source": [
    "from jsonschema import validate\n",
    "from fairscape_cli.models.schema.tabular import (\n",
    "    TabularValidationSchema,\n",
    "    ReadSchema\n",
    ")\n",
    "\n",
    "def ExecuteSchema(schema_path, data_path):\n",
    "    schema = ReadSchema(schema_path)\n",
    "    failures = schema.execute_validation(data_path)\n",
    "    return failures\n",
    "    \n",
    "music_schema = 'examples/schemas/MUSIC_embedding/music_apms_embedding_schema.json'\n",
    "music_data = 'examples/schemas/MUSIC_embedding/APMS_embedding_MUSIC.csv'\n",
    "music_corrupted = 'examples/schemas/MUSIC_embedding/APMS_embedding_corrupted.csv'"
   ]
  },
  {
   "cell_type": "code",
   "execution_count": 91,
   "id": "ff33efb8-13a6-4d9e-9b69-c648c69b73e6",
   "metadata": {},
   "outputs": [],
   "source": [
    "errors = ExecuteSchema(music_schema, music_data)"
   ]
  },
  {
   "cell_type": "code",
   "execution_count": 93,
   "id": "84c5328f-8ac2-4422-b702-659fa06bded8",
   "metadata": {},
   "outputs": [
    {
     "data": {
      "text/plain": [
       "13"
      ]
     },
     "execution_count": 93,
     "metadata": {},
     "output_type": "execute_result"
    }
   ],
   "source": [
    "len(errors)"
   ]
  },
  {
   "cell_type": "code",
   "execution_count": 94,
   "id": "31180b28-89f6-4070-93f3-d92f9070a368",
   "metadata": {},
   "outputs": [
    {
     "data": {
      "text/plain": [
       "[{'message': \"'HLA-DPA1' does not match '^[A-Z0-9]*$'\",\n",
       "  'row': 11,\n",
       "  'type': 'ValidationError',\n",
       "  'failed_keyword': 'pattern',\n",
       "  'schema_path': deque(['properties', 'Gene Symbol', 'pattern'])},\n",
       " {'message': \"'C5orf24' does not match '^[A-Z0-9]*$'\",\n",
       "  'row': 142,\n",
       "  'type': 'ValidationError',\n",
       "  'failed_keyword': 'pattern',\n",
       "  'schema_path': deque(['properties', 'Gene Symbol', 'pattern'])},\n",
       " {'message': \"'C15orf39' does not match '^[A-Z0-9]*$'\",\n",
       "  'row': 177,\n",
       "  'type': 'ValidationError',\n",
       "  'failed_keyword': 'pattern',\n",
       "  'schema_path': deque(['properties', 'Gene Symbol', 'pattern'])},\n",
       " {'message': \"'HLA-DPB1' does not match '^[A-Z0-9]*$'\",\n",
       "  'row': 192,\n",
       "  'type': 'ValidationError',\n",
       "  'failed_keyword': 'pattern',\n",
       "  'schema_path': deque(['properties', 'Gene Symbol', 'pattern'])},\n",
       " {'message': \"'C19orf25' does not match '^[A-Z0-9]*$'\",\n",
       "  'row': 199,\n",
       "  'type': 'ValidationError',\n",
       "  'failed_keyword': 'pattern',\n",
       "  'schema_path': deque(['properties', 'Gene Symbol', 'pattern'])},\n",
       " {'message': \"'C12orf43' does not match '^[A-Z0-9]*$'\",\n",
       "  'row': 346,\n",
       "  'type': 'ValidationError',\n",
       "  'failed_keyword': 'pattern',\n",
       "  'schema_path': deque(['properties', 'Gene Symbol', 'pattern'])},\n",
       " {'message': \"'C11orf74' does not match '^[A-Z0-9]*$'\",\n",
       "  'row': 353,\n",
       "  'type': 'ValidationError',\n",
       "  'failed_keyword': 'pattern',\n",
       "  'schema_path': deque(['properties', 'Gene Symbol', 'pattern'])},\n",
       " {'message': \"'C1orf52' does not match '^[A-Z0-9]*$'\",\n",
       "  'row': 440,\n",
       "  'type': 'ValidationError',\n",
       "  'failed_keyword': 'pattern',\n",
       "  'schema_path': deque(['properties', 'Gene Symbol', 'pattern'])},\n",
       " {'message': \"'C19orf44' does not match '^[A-Z0-9]*$'\",\n",
       "  'row': 487,\n",
       "  'type': 'ValidationError',\n",
       "  'failed_keyword': 'pattern',\n",
       "  'schema_path': deque(['properties', 'Gene Symbol', 'pattern'])},\n",
       " {'message': \"'C8orf34' does not match '^[A-Z0-9]*$'\",\n",
       "  'row': 536,\n",
       "  'type': 'ValidationError',\n",
       "  'failed_keyword': 'pattern',\n",
       "  'schema_path': deque(['properties', 'Gene Symbol', 'pattern'])},\n",
       " {'message': \"'C19orf53' does not match '^[A-Z0-9]*$'\",\n",
       "  'row': 593,\n",
       "  'type': 'ValidationError',\n",
       "  'failed_keyword': 'pattern',\n",
       "  'schema_path': deque(['properties', 'Gene Symbol', 'pattern'])},\n",
       " {'message': \"'C15orf61' does not match '^[A-Z0-9]*$'\",\n",
       "  'row': 604,\n",
       "  'type': 'ValidationError',\n",
       "  'failed_keyword': 'pattern',\n",
       "  'schema_path': deque(['properties', 'Gene Symbol', 'pattern'])},\n",
       " {'message': \"'C7orf25' does not match '^[A-Z0-9]*$'\",\n",
       "  'row': 645,\n",
       "  'type': 'ValidationError',\n",
       "  'failed_keyword': 'pattern',\n",
       "  'schema_path': deque(['properties', 'Gene Symbol', 'pattern'])}]"
      ]
     },
     "execution_count": 94,
     "metadata": {},
     "output_type": "execute_result"
    }
   ],
   "source": [
    "errors"
   ]
  },
  {
   "cell_type": "code",
   "execution_count": 95,
   "id": "3d3e4325-7f3f-48de-8998-bb1d516f9ac8",
   "metadata": {},
   "outputs": [],
   "source": [
    "cor_errors = ExecuteSchema(music_schema, music_corrupted)"
   ]
  },
  {
   "cell_type": "code",
   "execution_count": 96,
   "id": "1ff46d65-030f-4caa-b662-f91a3f89d690",
   "metadata": {},
   "outputs": [
    {
     "data": {
      "text/plain": [
       "[{'message': 'ValueError: Failed to Parse Attribute embed for Row 3',\n",
       "  'type': 'ParsingError',\n",
       "  'row': 3,\n",
       "  'exception': ValueError(\"could not convert string to float: ' '\")},\n",
       " {'message': 'ValueError: Failed to Parse Attribute embed for Row 4',\n",
       "  'type': 'ParsingError',\n",
       "  'row': 4,\n",
       "  'exception': ValueError(\"could not convert string to float: 'Not A Float'\")},\n",
       " {'message': \"'APMS_A' does not match '^APMS_[0-9]*$'\",\n",
       "  'row': 0,\n",
       "  'type': 'ValidationError',\n",
       "  'failed_keyword': 'pattern',\n",
       "  'schema_path': deque(['properties', 'Experiment Identifier', 'pattern'])},\n",
       " {'message': \"' -8- ' does not match '^[A-Z0-9]*$'\",\n",
       "  'row': 1,\n",
       "  'type': 'ValidationError',\n",
       "  'failed_keyword': 'pattern',\n",
       "  'schema_path': deque(['properties', 'Gene Symbol', 'pattern'])},\n",
       " {'message': \"'-`~' does not match '^[A-Z0-9]*$'\",\n",
       "  'row': 2,\n",
       "  'type': 'ValidationError',\n",
       "  'failed_keyword': 'pattern',\n",
       "  'schema_path': deque(['properties', 'Gene Symbol', 'pattern'])}]"
      ]
     },
     "execution_count": 96,
     "metadata": {},
     "output_type": "execute_result"
    }
   ],
   "source": [
    "cor_errors"
   ]
  },
  {
   "cell_type": "code",
   "execution_count": 9,
   "id": "fc6ed1cc-6745-4af3-9786-b97a1e033cb8",
   "metadata": {},
   "outputs": [
    {
     "data": {
      "text/plain": [
       "{'message': \"'Embedding' is a required property\",\n",
       " 'row': 2,\n",
       " 'type': 'ValidationError',\n",
       " 'failed_keyword': '$'}"
      ]
     },
     "execution_count": 9,
     "metadata": {},
     "output_type": "execute_result"
    }
   ],
   "source": [
    "errors[2]"
   ]
  },
  {
   "cell_type": "code",
   "execution_count": null,
   "id": "ec9da13d-7ca6-4471-9279-3e15f2865f56",
   "metadata": {},
   "outputs": [],
   "source": [
    "music_schema_class = ReadSchema(music_schema)\n",
    "music_schema_jsonschema = music_schema_class.model_dump(\n",
    "    by_alias=True, \n",
    "    exclude_unset=True, \n",
    "    exclude_none=True\n",
    ")\n"
   ]
  },
  {
   "cell_type": "code",
   "execution_count": null,
   "id": "9ae034f4-d04e-4e11-b9cd-58eafe8af2d0",
   "metadata": {},
   "outputs": [],
   "source": [
    "music_schema_class.convert_json(music_data)"
   ]
  },
  {
   "cell_type": "code",
   "execution_count": null,
   "id": "04d2796f-cf6e-4846-91ab-119d4803ea28",
   "metadata": {},
   "outputs": [],
   "source": [
    "validate(\n",
    "    schema=music_schema_raw,\n",
    "    instance={'"
   ]
  },
  {
   "cell_type": "code",
   "execution_count": null,
   "id": "ba33b060-bc2b-4fcc-9780-ecb9dc062ab7",
   "metadata": {},
   "outputs": [],
   "source": [
    "schema"
   ]
  },
  {
   "cell_type": "code",
   "execution_count": null,
   "id": "905af59a-81c2-402b-bac7-5e8608c09e84",
   "metadata": {},
   "outputs": [],
   "source": [
    "len(must_fail)"
   ]
  },
  {
   "cell_type": "code",
   "execution_count": null,
   "id": "332b02ae-d376-43b7-ad01-c4f4dc275673",
   "metadata": {},
   "outputs": [],
   "source": [
    "['a','b','c'] + ['d','e','f']"
   ]
  },
  {
   "cell_type": "code",
   "execution_count": null,
   "id": "4624d500-77c9-40e9-afbb-9cd6f989c714",
   "metadata": {},
   "outputs": [],
   "source": []
  }
 ],
 "metadata": {
  "kernelspec": {
   "display_name": "Python 3 (ipykernel)",
   "language": "python",
   "name": "python3"
  },
  "language_info": {
   "codemirror_mode": {
    "name": "ipython",
    "version": 3
   },
   "file_extension": ".py",
   "mimetype": "text/x-python",
   "name": "python",
   "nbconvert_exporter": "python",
   "pygments_lexer": "ipython3",
   "version": "3.12.1"
  }
 },
 "nbformat": 4,
 "nbformat_minor": 5
}
